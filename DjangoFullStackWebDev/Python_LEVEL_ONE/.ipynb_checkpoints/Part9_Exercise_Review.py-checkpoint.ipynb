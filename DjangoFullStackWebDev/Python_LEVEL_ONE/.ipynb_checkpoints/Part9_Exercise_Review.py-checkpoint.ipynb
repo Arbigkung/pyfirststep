{
 "cells": [
  {
   "cell_type": "code",
   "execution_count": 8,
   "metadata": {},
   "outputs": [
    {
     "data": {
      "text/plain": [
       "False"
      ]
     },
     "execution_count": 8,
     "metadata": {},
     "output_type": "execute_result"
    }
   ],
   "source": [
    "def arrayCheck(nums):\n",
    "    new = list(set(nums))\n",
    "    if new[0] == 1 and new[1] == 2 and new[2] == 3:\n",
    "        return True\n",
    "    else:\n",
    "        return False\n",
    "    \n",
    "#arrayCheck([1, 1, 2, 3, 1])\n",
    "arrayCheck([1, 1, 2, 4, 1])"
   ]
  },
  {
   "cell_type": "code",
   "execution_count": null,
   "metadata": {
    "collapsed": true
   },
   "outputs": [],
   "source": []
  }
 ],
 "metadata": {
  "kernelspec": {
   "display_name": "Python 3",
   "language": "python",
   "name": "python3"
  },
  "language_info": {
   "codemirror_mode": {
    "name": "ipython",
    "version": 3
   },
   "file_extension": ".py",
   "mimetype": "text/x-python",
   "name": "python",
   "nbconvert_exporter": "python",
   "pygments_lexer": "ipython3",
   "version": "3.6.1"
  }
 },
 "nbformat": 4,
 "nbformat_minor": 2
}
