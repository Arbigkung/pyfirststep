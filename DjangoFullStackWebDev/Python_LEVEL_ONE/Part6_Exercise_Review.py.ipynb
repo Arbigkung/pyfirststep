{
 "cells": [
  {
   "cell_type": "code",
   "execution_count": 14,
   "metadata": {},
   "outputs": [
    {
     "name": "stdout",
     "output_type": "stream",
     "text": [
      "d\n",
      "o\n",
      "djan\n",
      "jan\n",
      "go\n"
     ]
    }
   ],
   "source": [
    "s = 'django'\n",
    "\n",
    "print(s[0])\n",
    "print(s[-1])\n",
    "print(s[:4])\n",
    "print(s[1:4])\n",
    "print(s[4:6])"
   ]
  },
  {
   "cell_type": "code",
   "execution_count": 16,
   "metadata": {},
   "outputs": [
    {
     "name": "stdout",
     "output_type": "stream",
     "text": [
      "[3, 7, [1, 4, 'goodbye']]\n"
     ]
    }
   ],
   "source": [
    "l = [3, 7, [1, 4, 'hello']]\n",
    "l[2][2] = 'goodbye'\n",
    "print(l)"
   ]
  },
  {
   "cell_type": "code",
   "execution_count": 27,
   "metadata": {},
   "outputs": [
    {
     "name": "stdout",
     "output_type": "stream",
     "text": [
      "hello\n",
      "hello\n",
      "hello\n"
     ]
    }
   ],
   "source": [
    "d1 = {'simple_key':'hello'}\n",
    "d2 = {'k1':{'k2':'hello'}}\n",
    "d3 = {'k1':[{'nest_key':['this is deep', ['hello']]}]}\n",
    "\n",
    "print(d1['simple_key'])\n",
    "print(d2['k1']['k2'])\n",
    "print(d3['k1'][0]['nest_key'][1][0])"
   ]
  },
  {
   "cell_type": "code",
   "execution_count": 28,
   "metadata": {},
   "outputs": [
    {
     "name": "stdout",
     "output_type": "stream",
     "text": [
      "{1, 2, 3}\n"
     ]
    }
   ],
   "source": [
    "mylist = [1,1,1,1,1,1,2,2,2,2,3,3,3,3]\n",
    "print(set(mylist))"
   ]
  },
  {
   "cell_type": "code",
   "execution_count": 30,
   "metadata": {},
   "outputs": [
    {
     "name": "stdout",
     "output_type": "stream",
     "text": [
      "Hello my dog's name is Sammy and he is 4 years old\n"
     ]
    }
   ],
   "source": [
    "age = 4\n",
    "name = \"Sammy\"\n",
    "\n",
    "print (\"Hello my dog's name is \" + name + \" and he is \" + str(age) +\" years old\")\n",
    "\n"
   ]
  },
  {
   "cell_type": "code",
   "execution_count": null,
   "metadata": {},
   "outputs": [],
   "source": []
  },
  {
   "cell_type": "code",
   "execution_count": null,
   "metadata": {
    "collapsed": true
   },
   "outputs": [],
   "source": []
  }
 ],
 "metadata": {
  "kernelspec": {
   "display_name": "Python 3",
   "language": "python",
   "name": "python3"
  },
  "language_info": {
   "codemirror_mode": {
    "name": "ipython",
    "version": 3
   },
   "file_extension": ".py",
   "mimetype": "text/x-python",
   "name": "python",
   "nbconvert_exporter": "python",
   "pygments_lexer": "ipython3",
   "version": "3.6.1"
  }
 },
 "nbformat": 4,
 "nbformat_minor": 2
}
