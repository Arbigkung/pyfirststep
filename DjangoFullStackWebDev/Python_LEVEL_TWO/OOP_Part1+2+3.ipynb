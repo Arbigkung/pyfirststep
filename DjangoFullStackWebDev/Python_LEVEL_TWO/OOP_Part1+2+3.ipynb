{
 "cells": [
  {
   "cell_type": "code",
   "execution_count": 1,
   "metadata": {},
   "outputs": [
    {
     "name": "stdout",
     "output_type": "stream",
     "text": [
      "[1, 2, 3, 4]\n"
     ]
    }
   ],
   "source": [
    "mylist = [1, 2, 3]\n",
    "mylist.append(4)\n",
    "print(mylist)"
   ]
  },
  {
   "cell_type": "code",
   "execution_count": 2,
   "metadata": {},
   "outputs": [
    {
     "name": "stdout",
     "output_type": "stream",
     "text": [
      "<class 'list'>\n"
     ]
    }
   ],
   "source": [
    "print(type([1, 2, 3]))"
   ]
  },
  {
   "cell_type": "code",
   "execution_count": 11,
   "metadata": {},
   "outputs": [
    {
     "name": "stdout",
     "output_type": "stream",
     "text": [
      "Lab\n",
      "Sammy\n",
      "mammal\n"
     ]
    }
   ],
   "source": [
    "class Dog():\n",
    "    \n",
    "    species = \"mammal\"\n",
    "    \n",
    "    def __init__(self, breed, name):\n",
    "        self.breed = breed\n",
    "        self.name = name\n",
    "\n",
    "mydog = Dog(breed = \"Lab\", name = \"Sammy\")\n",
    "print(mydog.breed)\n",
    "print(mydog.name)\n",
    "print(mydog.species)"
   ]
  },
  {
   "cell_type": "code",
   "execution_count": 18,
   "metadata": {},
   "outputs": [
    {
     "name": "stdout",
     "output_type": "stream",
     "text": [
      "3\n",
      "28.26\n",
      "3133723.14\n"
     ]
    }
   ],
   "source": [
    "class Circle():\n",
    "    \n",
    "    pi = 3.14\n",
    "    \n",
    "    def __init__(self, radius=1):\n",
    "        self.radius = radius\n",
    "        \n",
    "    def area(self):\n",
    "        return self.radius*self.radius * Circle.pi\n",
    "    \n",
    "    def set_radius(self, new_r):\n",
    "        self.radius = new_r\n",
    "        \n",
    "myc = Circle(3)\n",
    "print(myc.radius)\n",
    "print(myc.area())\n",
    "myc.set_radius(999)\n",
    "print(myc.area())"
   ]
  },
  {
   "cell_type": "code",
   "execution_count": 23,
   "metadata": {},
   "outputs": [
    {
     "name": "stdout",
     "output_type": "stream",
     "text": [
      "ANIMAL CREATED\n",
      "Animal\n",
      "Eating\n",
      "DOG CREATED\n",
      "Animal\n",
      "DOG EATING\n",
      "WOOF\n"
     ]
    }
   ],
   "source": [
    "class Animal():\n",
    "    \n",
    "    def __init__(self):\n",
    "        print(\"ANIMAL CREATED\")\n",
    "    \n",
    "    def whoAmI(self):\n",
    "        print(\"Animal\")\n",
    "    \n",
    "    def eat(self):\n",
    "        print(\"Eating\")\n",
    "        \n",
    "mya = Animal()\n",
    "mya.whoAmI()\n",
    "mya.eat()\n",
    "\n",
    "class Dog(Animal):\n",
    "\n",
    "    def __init__(self):\n",
    "        print(\"DOG CREATED\")\n",
    "    \n",
    "    def bark(self):\n",
    "        print(\"WOOF\")\n",
    "    \n",
    "    def eat(self):\n",
    "        print(\"DOG EATING\")\n",
    "    \n",
    "mydog = Dog()\n",
    "mydog.whoAmI()\n",
    "mydog.eat()\n",
    "mydog.bark()"
   ]
  },
  {
   "cell_type": "code",
   "execution_count": 31,
   "metadata": {},
   "outputs": [
    {
     "name": "stdout",
     "output_type": "stream",
     "text": [
      "200\n",
      "Title: Python, Author: jose, Pages: 200,\n",
      "a book is destroyed!\n"
     ]
    }
   ],
   "source": [
    "class Book():\n",
    "    \n",
    "    def __init__(self, title, author, pages):\n",
    "        self.title = title\n",
    "        self.author = author\n",
    "        self.pages = pages\n",
    "        \n",
    "    def __str__(self):\n",
    "        return \"Title: {}, Author: {}, Pages: {},\".format(self.title,self.author,self.pages)\n",
    "    \n",
    "    def __len__(self):\n",
    "        return self.pages\n",
    "    \n",
    "    def __del__(self):\n",
    "        print(\"a book is destroyed!\")\n",
    "        \n",
    "b = Book(\"Python\", \"jose\", 200)\n",
    "print(len(b))\n",
    "print(b)\n",
    "del b\n"
   ]
  },
  {
   "cell_type": "code",
   "execution_count": null,
   "metadata": {
    "collapsed": true
   },
   "outputs": [],
   "source": []
  }
 ],
 "metadata": {
  "kernelspec": {
   "display_name": "Python 3",
   "language": "python",
   "name": "python3"
  },
  "language_info": {
   "codemirror_mode": {
    "name": "ipython",
    "version": 3
   },
   "file_extension": ".py",
   "mimetype": "text/x-python",
   "name": "python",
   "nbconvert_exporter": "python",
   "pygments_lexer": "ipython3",
   "version": "3.6.1"
  }
 },
 "nbformat": 4,
 "nbformat_minor": 2
}
