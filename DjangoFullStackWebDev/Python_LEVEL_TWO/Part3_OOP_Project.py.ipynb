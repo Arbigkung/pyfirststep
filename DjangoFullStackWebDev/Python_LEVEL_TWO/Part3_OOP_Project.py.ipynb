{
 "cells": [
  {
   "cell_type": "code",
   "execution_count": 22,
   "metadata": {},
   "outputs": [
    {
     "name": "stdout",
     "output_type": "stream",
     "text": [
      "[('H', '2'), ('H', '3'), ('H', '4'), ('H', '5'), ('H', '6'), ('H', '7'), ('H', '8'), ('H', '9'), ('H', '10'), ('H', 'J'), ('H', 'Q'), ('H', 'K'), ('H', 'A'), ('D', '2'), ('D', '3'), ('D', '4'), ('D', '5'), ('D', '6'), ('D', '7'), ('D', '8'), ('D', '9'), ('D', '10'), ('D', 'J'), ('D', 'Q'), ('D', 'K'), ('D', 'A'), ('S', '2'), ('S', '3'), ('S', '4'), ('S', '5'), ('S', '6'), ('S', '7'), ('S', '8'), ('S', '9'), ('S', '10'), ('S', 'J'), ('S', 'Q'), ('S', 'K'), ('S', 'A'), ('C', '2'), ('C', '3'), ('C', '4'), ('C', '5'), ('C', '6'), ('C', '7'), ('C', '8'), ('C', '9'), ('C', '10'), ('C', 'J'), ('C', 'Q'), ('C', 'K'), ('C', 'A')]\n",
      "None\n",
      "26\n",
      "([('H', '2'), ('H', '9'), ('H', '10'), ('C', 'Q'), ('D', '5'), ('S', '9'), ('S', '4'), ('D', '9'), ('S', 'K'), ('S', 'A'), ('D', '10'), ('C', 'A'), ('H', '3'), ('C', '8'), ('D', 'A'), ('C', 'K'), ('S', '5'), ('C', '7'), ('D', '4'), ('S', '3'), ('C', '9'), ('C', '2'), ('C', '10'), ('C', 'J'), ('C', '5'), ('C', '3')], [('H', '8'), ('S', '7'), ('H', 'Q'), ('S', '2'), ('H', '7'), ('C', '4'), ('D', '2'), ('D', '7'), ('D', '8'), ('C', '6'), ('H', 'J'), ('S', '6'), ('H', '5'), ('H', '6'), ('D', '6'), ('H', 'K'), ('D', 'K'), ('S', '10'), ('D', 'J'), ('H', '4'), ('S', 'Q'), ('S', '8'), ('S', 'J'), ('H', 'A'), ('D', '3'), ('D', 'Q')])\n"
     ]
    }
   ],
   "source": [
    "from random import shuffle\n",
    "\n",
    "SUITE = 'H D S C'.split()\n",
    "RANKS = '2 3 4 5 6 7 8 9 10 J Q K A'.split()\n",
    "\n",
    "class Deck:\n",
    "        \n",
    "    def __init__(self, SUITE, RANKS):\n",
    "        self.deck = [(s,r) for s in SUITE for r in RANKS ]\n",
    "                \n",
    "    def sp\n",
    "    lit(self):\n",
    "        half = int(len(self.deck)/2)\n",
    "        print(half)\n",
    "        return self.deck[:half], self.deck[half:]\n",
    "    \n",
    "    def shuffling(self):\n",
    "        shuffle(self.deck)\n",
    "\n",
    "class Hand:\n",
    "    def __init__(self, cards):\n",
    "        self.cards = cards\n",
    "    \n",
    "mydeck = Deck(SUITE, RANKS)\n",
    "print(mydeck.deck)\n",
    "print(mydeck.shuffling())\n",
    "print(mydeck.split())"
   ]
  },
  {
   "cell_type": "code",
   "execution_count": null,
   "metadata": {
    "collapsed": true
   },
   "outputs": [],
   "source": []
  }
 ],
 "metadata": {
  "kernelspec": {
   "display_name": "Python 3",
   "language": "python",
   "name": "python3"
  },
  "language_info": {
   "codemirror_mode": {
    "name": "ipython",
    "version": 3
   },
   "file_extension": ".py",
   "mimetype": "text/x-python",
   "name": "python",
   "nbconvert_exporter": "python",
   "pygments_lexer": "ipython3",
   "version": "3.6.1"
  }
 },
 "nbformat": 4,
 "nbformat_minor": 2
}
