{
 "cells": [
  {
   "cell_type": "code",
   "execution_count": 4,
   "metadata": {},
   "outputs": [
    {
     "name": "stdout",
     "output_type": "stream",
     "text": [
      "I'm serching for: term1\n",
      "MATCH!\n",
      "I'm serching for: term2\n",
      "NO MATCH!\n"
     ]
    }
   ],
   "source": [
    "import re\n",
    "\n",
    "patterns = ['term1', 'term2']\n",
    "\n",
    "text = 'This is string with term1, not not the other!'\n",
    "\n",
    "for pattern in patterns:\n",
    "    print(\"I'm serching for: \"+ pattern)\n",
    "    \n",
    "    if re.search(pattern, text):\n",
    "        print(\"MATCH!\")\n",
    "    else:\n",
    "        print(\"NO MATCH!\")"
   ]
  },
  {
   "cell_type": "code",
   "execution_count": 8,
   "metadata": {},
   "outputs": [
    {
     "name": "stdout",
     "output_type": "stream",
     "text": [
      "Searching for pattern sd{2,3}\n",
      "['sddd', 'sddd', 'sddd', 'sddd']\n",
      "\n",
      "\n"
     ]
    }
   ],
   "source": [
    "import re\n",
    "def multi_re_find(patterns, phrase):\n",
    "    \n",
    "    for pat in patterns:\n",
    "        print(\"Searching for pattern {}\".format(pat))\n",
    "        print(re.findall(pat,phrase))\n",
    "        print('\\n')\n",
    "        \n",
    "test_phrase = 'sdsd..sssddd..sdddsddd...dsds...dssssss...sddddd'\n",
    "\n",
    "test_patterns = ['sd*']\n",
    "test_patterns = ['sd{2,3}']\n",
    "\n",
    "multi_re_find(test_patterns, test_phrase)"
   ]
  },
  {
   "cell_type": "code",
   "execution_count": null,
   "metadata": {
    "collapsed": true
   },
   "outputs": [],
   "source": []
  }
 ],
 "metadata": {
  "kernelspec": {
   "display_name": "Python 3",
   "language": "python",
   "name": "python3"
  },
  "language_info": {
   "codemirror_mode": {
    "name": "ipython",
    "version": 3
   },
   "file_extension": ".py",
   "mimetype": "text/x-python",
   "name": "python",
   "nbconvert_exporter": "python",
   "pygments_lexer": "ipython3",
   "version": "3.6.1"
  }
 },
 "nbformat": 4,
 "nbformat_minor": 2
}
